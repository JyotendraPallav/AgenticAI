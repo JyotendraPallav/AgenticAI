{
 "cells": [
  {
   "cell_type": "markdown",
   "metadata": {},
   "source": [
    "## Deep Research\n",
    "\n",
    "One of the classic cross-business Agentic use cases! This is huge."
   ]
  },
  {
   "cell_type": "markdown",
   "metadata": {},
   "source": [
    "<table style=\"margin: 0; text-align: left; width:100%\">\n",
    "    <tr>\n",
    "        <td style=\"width: 150px; height: 150px; vertical-align: middle;\">\n",
    "            <img src=\"../assets/business.png\" width=\"150\" height=\"150\" style=\"display: block;\" />\n",
    "        </td>\n",
    "        <td>\n",
    "            <h2 style=\"color:#00bfff;\">Commercial implications</h2>\n",
    "            <span style=\"color:#00bfff;\">A Deep Research agent is broadly applicable to any business area, and to your own day-to-day activities. You can make use of this yourself!\n",
    "            </span>\n",
    "        </td>\n",
    "    </tr>\n",
    "</table>"
   ]
  },
  {
   "cell_type": "code",
   "execution_count": 16,
   "metadata": {},
   "outputs": [],
   "source": [
    "# Imports\n",
    "\n",
    "from agents import Agent, WebSearchTool, trace, Runner, function_tool\n",
    "from agents.model_settings import ModelSettings\n",
    "from pydantic import BaseModel\n",
    "from dotenv import load_dotenv\n",
    "import asyncio\n",
    "import os\n",
    "from IPython.display import display, Markdown\n",
    "from pprint import pprint\n",
    "import requests\n",
    "load_dotenv(override=True)\n",
    "\n",
    "# Constants\n",
    "\n",
    "pushover_user = os.getenv(\"PUSHOVER_USER\")\n",
    "pushover_token = os.getenv(\"PUSHOVER_TOKEN\")\n",
    "pushover_url = \"https://api.pushover.net/1/messages.json\""
   ]
  },
  {
   "cell_type": "markdown",
   "metadata": {},
   "source": [
    "## OpenAI Hosted Tools\n",
    "\n",
    "OpenAI Agents SDK includes the following hosted tools:\n",
    "\n",
    "The `WebSearchTool` lets an agent search the web.  \n",
    "The `FileSearchTool` allows retrieving information from your OpenAI Vector Stores.  \n",
    "The `ComputerTool` allows automating computer use tasks like taking screenshots and clicking.\n",
    "\n",
    "### Important note - API charge of WebSearchTool\n",
    "\n",
    "This is costing me 2.5 cents per call for OpenAI WebSearchTool. That can add up to $2-$3 for the next 2 labs. We'll use low cost Search tools with other platforms, so feel free to skip running this if the cost is a concern.\n",
    "\n",
    "Costs are here: https://platform.openai.com/docs/pricing#web-search"
   ]
  },
  {
   "cell_type": "markdown",
   "metadata": {},
   "source": [
    "## We will be making 4 Agents:\n",
    "\n",
    "1. Search Agent - searches online given a search term using an OpenAI hosted tool\n",
    "2. Planner Agent - given a query from the user, come up with searches\n",
    "3. Report Agent - make a report on results\n",
    "4. Push Agent - send a notification to the user's phone with a summary\n",
    "\n",
    "## Our First Agent: Search Agent\n",
    "\n",
    "Given a Search term, search for it on the internet and summarize results."
   ]
  },
  {
   "cell_type": "code",
   "execution_count": 2,
   "metadata": {},
   "outputs": [],
   "source": [
    "INSTRUCTIONS = \"You are a research assistant. Given a search term, you search the web for that term and \\\n",
    "produce a concise summary of the results. The summary must 2-3 paragraphs and less than 300 \\\n",
    "words. Capture the main points. Write succintly, no need to have complete sentences or good \\\n",
    "grammar. This will be consumed by someone synthesizing a report, so it's vital you capture the \\\n",
    "essence and ignore any fluff. Do not include any additional commentary other than the summary itself.\"\n",
    "\n",
    "search_agent = Agent(\n",
    "    name=\"Search agent\",\n",
    "    instructions=INSTRUCTIONS,\n",
    "    tools=[WebSearchTool(search_context_size=\"low\")],\n",
    "    model=\"gpt-4o-mini\",\n",
    "    model_settings=ModelSettings(tool_choice=\"required\"),\n",
    ")"
   ]
  },
  {
   "cell_type": "code",
   "execution_count": 3,
   "metadata": {},
   "outputs": [
    {
     "data": {
      "text/markdown": [
       "As of July 2025, several AI agent frameworks have gained prominence for their capabilities in developing sophisticated, multi-agent systems:\n",
       "\n",
       "**LangChain**: A versatile framework that allows developers to build AI agents by chaining together language models, external tools, and custom logic. Its modular architecture supports complex workflows and integrations, making it suitable for applications like AI chat assistants and document Q&A bots. However, its resource-intensive nature and rapid evolution may require regular updates. ([appypieagents.ai](https://www.appypieagents.ai/blog/best-ai-agent-frameworks?utm_source=openai))\n",
       "\n",
       "**AutoGen**: Developed by Microsoft, AutoGen facilitates the orchestration of multiple AI agents in collaborative, asynchronous environments. It enables role-based agents to communicate and share tasks, streamlining complex workflows. AutoGen is particularly effective for automated research, collaborative analytics, and AI workflow automation. Its integration with Azure and OpenAI services enhances its utility in enterprise settings. ([appypieagents.ai](https://www.appypieagents.ai/blog/best-ai-agent-frameworks?utm_source=openai))\n",
       "\n",
       "**CrewAI**: This framework focuses on orchestrating role-based AI agents for collaborative tasks. CrewAI allows for the assignment of specific roles to agents, enabling them to work together efficiently on complex projects. It's particularly popular in customer service and marketing sectors, offering a straightforward approach to building multi-agent systems without complex dependencies. ([firecrawl.dev](https://www.firecrawl.dev/blog/best-open-source-agent-frameworks-2025?utm_source=openai))\n",
       "\n",
       "**LangGraph**: An extension within the LangChain ecosystem, LangGraph specializes in building stateful, multi-participant applications by modeling steps as nodes and edges in a graph. It integrates seamlessly with LangChain, offering enhanced capabilities for complex workflows and long-term memory management. ([firecrawl.dev](https://www.firecrawl.dev/blog/best-open-source-agent-frameworks-2025?utm_source=openai))\n",
       "\n",
       "**Google Agent Development Kit (ADK)**: Announced in April 2025, the Google ADK is a modular framework that integrates with Google's ecosystem, including Gemini and Vertex AI. It supports hierarchical agent compositions and custom tool development, facilitating the creation of sophisticated AI agents within Google's cloud infrastructure. ([firecrawl.dev](https://www.firecrawl.dev/blog/best-open-source-agent-frameworks-2025?utm_source=openai))\n",
       "\n",
       "These frameworks represent the forefront of AI agent development, each offering unique features tailored to different application needs. "
      ],
      "text/plain": [
       "<IPython.core.display.Markdown object>"
      ]
     },
     "metadata": {},
     "output_type": "display_data"
    }
   ],
   "source": [
    "message = \"What are the most popular and successful AI Agent frameworks in Jul 2025\"\n",
    "\n",
    "with trace(\"Search\"):\n",
    "    result = await Runner.run(search_agent, message)\n",
    "\n",
    "display(Markdown(result.final_output))"
   ]
  },
  {
   "cell_type": "markdown",
   "metadata": {},
   "source": [
    "Take a look at the trace\n",
    "\n",
    "https://platform.openai.com/traces"
   ]
  },
  {
   "cell_type": "markdown",
   "metadata": {},
   "source": [
    "## Our Second Agent: Planner Agent\n",
    "\n",
    "Given a query, come up with 5 ideas for web searches that could be run.\n",
    "\n",
    "Use Structured Outputs as our way to ensure the Agent provides what we need."
   ]
  },
  {
   "cell_type": "code",
   "execution_count": 4,
   "metadata": {},
   "outputs": [],
   "source": [
    "# See note above about cost of WebSearchTool\n",
    "\n",
    "HOW_MANY_SEARCHES = 5\n",
    "\n",
    "INSTRUCTIONS = f\"You are a helpful research assistant. Given a query, come up with a set of web searches \\\n",
    "to perform to best answer the query. Output {HOW_MANY_SEARCHES} terms to query for.\"\n",
    "\n",
    "# We use Pydantic objects to describe the Schema of the output\n",
    "\n",
    "class WebSearchItem(BaseModel):\n",
    "    reason: str\n",
    "    \"Your reasoning for why this search is important to the query.\"\n",
    "\n",
    "    query: str\n",
    "    \"The search term to use for the web search.\"\n",
    "\n",
    "\n",
    "class WebSearchPlan(BaseModel):\n",
    "    searches: list[WebSearchItem]\n",
    "    \"\"\"A list of web searches to perform to best answer the query.\"\"\"\n",
    "\n",
    "# We pass in the Pydantic object to ensure the output follows the schema\n",
    "\n",
    "planner_agent = Agent(\n",
    "    name=\"PlannerAgent\",\n",
    "    instructions=INSTRUCTIONS,\n",
    "    model=\"gpt-4o-mini\",\n",
    "    output_type=WebSearchPlan,\n",
    ")"
   ]
  },
  {
   "cell_type": "code",
   "execution_count": null,
   "metadata": {},
   "outputs": [
    {
     "name": "stdout",
     "output_type": "stream",
     "text": [
      "WebSearchPlan(searches=[WebSearchItem(reason='To identify the leading AI agent frameworks currently being used and their success metrics.', query='popular AI agent frameworks May 2025'), WebSearchItem(reason='To gather data on the most successful AI frameworks based on user adoption and performance.', query='successful AI frameworks statistics 2025'), WebSearchItem(reason='To find reviews and comparisons of various AI agent frameworks released or dominant in May 2025.', query='AI agent frameworks comparison May 2025'), WebSearchItem(reason='To explore developer preferences for AI frameworks and technologies in 2025.', query='top AI frameworks developer preferences 2025'), WebSearchItem(reason='To investigate the trends and innovations impacting AI agent frameworks in 2025.', query='AI agent frameworks trends innovations May 2025')])\n"
     ]
    }
   ],
   "source": [
    "\n",
    "message = \"What are the most popular and successful AI Agent frameworks in Aug 2025\"\n",
    "\n",
    "with trace(\"Search\"):\n",
    "    result = await Runner.run(planner_agent, message)\n",
    "    pprint(result.final_output)"
   ]
  },
  {
   "cell_type": "markdown",
   "metadata": {},
   "source": [
    "## Our Third Agent: Writer Agent\n",
    "\n",
    "Take the results of internet searches and make a report"
   ]
  },
  {
   "cell_type": "code",
   "execution_count": null,
   "metadata": {},
   "outputs": [],
   "source": [
    "INSTRUCTIONS = (\n",
    "    \"You are a senior researcher tasked with writing a cohesive report for a research query. \"\n",
    "    \"You will be provided with the original query, and some initial research done by a research assistant.\\n\"\n",
    "    \"You should first come up with an outline for the report that describes the structure and \"\n",
    "    \"flow of the report. Then, generate the report and return that as your final output.\\n\"\n",
    "    \"The final output should be in markdown format, and it should be small and concise. Aim \"\n",
    "    \"for 2-3 pages of content, not more than 1000 words.\"\n",
    ")\n",
    "\n",
    "\n",
    "class ReportData(BaseModel):\n",
    "    short_summary: str\n",
    "    \"\"\"A short 2-3 sentence summary of the findings.\"\"\"\n",
    "\n",
    "    markdown_report: str\n",
    "    \"\"\"The final report\"\"\"\n",
    "\n",
    "    follow_up_questions: list[str]\n",
    "    \"\"\"Suggested topics to research further\"\"\"\n",
    "\n",
    "\n",
    "writer_agent = Agent(\n",
    "    name=\"WriterAgent\",\n",
    "    instructions=INSTRUCTIONS,\n",
    "    model=\"gpt-4o-mini\",\n",
    "    output_type=ReportData,\n",
    ")"
   ]
  },
  {
   "cell_type": "markdown",
   "metadata": {},
   "source": [
    "## Our Fourth Agent: push notification\n",
    "\n",
    "Just to show how easy it is to make a tool!\n",
    "\n",
    "I'm using a nifty product called PushOver - to set this up yourself, visit https://pushover.net"
   ]
  },
  {
   "cell_type": "code",
   "execution_count": 18,
   "metadata": {},
   "outputs": [],
   "source": [
    "@function_tool\n",
    "def push(message: str):\n",
    "    \"\"\"Send a push notification with this brief message\"\"\"\n",
    "    payload = {\"user\": pushover_user, \"token\": pushover_token, \"message\": message}\n",
    "    requests.post(pushover_url, data=payload)\n",
    "    # Debugging: print payload and check for missing credentials\n",
    "    if not pushover_user or not pushover_token:\n",
    "        print(\"Pushover credentials are missing. Please set PUSHOVER_USER and PUSHOVER_TOKEN in your environment.\")\n",
    "        return {\"status\": \"error\", \"reason\": \"missing credentials\"}\n",
    "    print(\"Sending push notification with payload:\", payload)\n",
    "    response = requests.post(pushover_url, data=payload)\n",
    "    print(\"Pushover response:\", response.status_code, response.text)\n",
    "    if response.status_code != 200:\n",
    "        return {\"status\": \"error\", \"reason\": response.text}\n",
    "    return {\"status\": \"success\"}"
   ]
  },
  {
   "cell_type": "code",
   "execution_count": 10,
   "metadata": {},
   "outputs": [
    {
     "data": {
      "text/plain": [
       "FunctionTool(name='push', description='Send a push notification with this brief message', params_json_schema={'properties': {'message': {'title': 'Message', 'type': 'string'}}, 'required': ['message'], 'title': 'push_args', 'type': 'object', 'additionalProperties': False}, on_invoke_tool=<function function_tool.<locals>._create_function_tool.<locals>._on_invoke_tool at 0x121c83b00>, strict_json_schema=True, is_enabled=True)"
      ]
     },
     "execution_count": 10,
     "metadata": {},
     "output_type": "execute_result"
    }
   ],
   "source": [
    "push"
   ]
  },
  {
   "cell_type": "code",
   "execution_count": 11,
   "metadata": {},
   "outputs": [],
   "source": [
    "INSTRUCTIONS = \"\"\"You are a member of a research team and will be provided with a short summary of a report.\n",
    "When you receive the report summary, you send a push notification to the user using your tool, informing them that research is complete,\n",
    "and including the report summary you receive\"\"\"\n",
    "\n",
    "\n",
    "push_agent = Agent(\n",
    "    name=\"Push agent\",\n",
    "    instructions=INSTRUCTIONS,\n",
    "    tools=[push],\n",
    "    model=\"gpt-4o-mini\",\n",
    "    model_settings=ModelSettings(tool_choice=\"required\")\n",
    ")"
   ]
  },
  {
   "cell_type": "markdown",
   "metadata": {},
   "source": [
    "### The next 3 functions will plan and execute the search, using planner_agent and search_agent"
   ]
  },
  {
   "cell_type": "code",
   "execution_count": 12,
   "metadata": {},
   "outputs": [],
   "source": [
    "async def plan_searches(query: str):\n",
    "    \"\"\" Use the planner_agent to plan which searches to run for the query \"\"\"\n",
    "    print(\"Planning searches...\")\n",
    "    result = await Runner.run(planner_agent, f\"Query: {query}\")\n",
    "    print(f\"Will perform {len(result.final_output.searches)} searches\")\n",
    "    return result.final_output\n",
    "\n",
    "async def perform_searches(search_plan: WebSearchPlan):\n",
    "    \"\"\" Call search() for each item in the search plan \"\"\"\n",
    "    print(\"Searching...\")\n",
    "    tasks = [asyncio.create_task(search(item)) for item in search_plan.searches]\n",
    "    results = await asyncio.gather(*tasks)\n",
    "    print(\"Finished searching\")\n",
    "    return results\n",
    "\n",
    "async def search(item: WebSearchItem):\n",
    "    \"\"\" Use the search agent to run a web search for each item in the search plan \"\"\"\n",
    "    input = f\"Search term: {item.query}\\nReason for searching: {item.reason}\"\n",
    "    result = await Runner.run(search_agent, input)\n",
    "    return result.final_output"
   ]
  },
  {
   "cell_type": "markdown",
   "metadata": {},
   "source": [
    "### The next 2 functions write a report and send a push notification"
   ]
  },
  {
   "cell_type": "code",
   "execution_count": 13,
   "metadata": {},
   "outputs": [],
   "source": [
    "async def write_report(query: str, search_results: list[str]):\n",
    "    \"\"\" Use the writer agent to write a report based on the search results\"\"\"\n",
    "    print(\"Thinking about report...\")\n",
    "    input = f\"Original query: {query}\\nSummarized search results: {search_results}\"\n",
    "    result = await Runner.run(writer_agent, input)\n",
    "    print(\"Finished writing report\")\n",
    "    return result.final_output\n",
    "\n",
    "async def send_push(report: ReportData):\n",
    "    \"\"\" Use the push agent to send a notification to the user \"\"\"\n",
    "    print(\"Pushing...\")\n",
    "    result = await Runner.run(push_agent, report.short_summary)\n",
    "    print(\"Push sent\")\n",
    "    return report"
   ]
  },
  {
   "cell_type": "markdown",
   "metadata": {},
   "source": [
    "### Showtime!"
   ]
  },
  {
   "cell_type": "code",
   "execution_count": 15,
   "metadata": {},
   "outputs": [
    {
     "name": "stdout",
     "output_type": "stream",
     "text": [
      "Starting research...\n",
      "Planning searches...\n",
      "Will perform 5 searches\n",
      "Searching...\n",
      "Finished searching\n",
      "Thinking about report...\n",
      "Finished writing report\n",
      "Pushing...\n",
      "Push sent\n",
      "Hooray!\n"
     ]
    },
    {
     "data": {
      "text/markdown": [
       "# iPhone 17 Series Report\n",
       "\n",
       "## Introduction\n",
       "The iPhone 17 series, anticipated to launch in September 2025, is set to redefine user expectations with a combination of aesthetic designs and high-performance technologies. Featuring four distinct models—the iPhone 17, iPhone 17 Air, iPhone 17 Pro, and iPhone 17 Pro Max—Apple aims to cater to a diverse range of consumer preferences and needs. This report offers a detailed summary of each model, discussing specifications, key features, pricing, and user feedback expected upon release.\n",
       "\n",
       "## 1. Overview of the iPhone 17 Series\n",
       "The iPhone 17 series marks Apple's latest innovation in smartphone technology, characterized by enhanced performance, improved camera systems, and a sophisticated design mentality. As rumors suggest, all four models will share consistent design aesthetics while offering distinctive features tailored to different segments of the smartphone market.\n",
       "\n",
       "### 1.1 Launch Timeline\n",
       "- **Expected Announcement:** September 2025\n",
       "- **Pre-orders Start:** September 12, 2025\n",
       "- **Official Release Date:** September 19, 2025\n",
       "\n",
       "## 2. Detailed Model Specifications\n",
       "### 2.1 iPhone 17\n",
       "- **Display:** 6.3-inch OLED with ProMotion technology supporting up to 120Hz refresh rate.\n",
       "- **Camera:** 24MP front camera and improved rear camera functionality.\n",
       "- **Processor:** Powered by the A19 chip.\n",
       "- **Price Range:** Starting at $849.\n",
       "- **Key Features:** Enhanced haptic feedback and improved durability.\n",
       "\n",
       "### 2.2 iPhone 17 Air\n",
       "- **Display:** 6.6-inch LTPO OLED display.\n",
       "- **Camera:** Equipped with a single 48MP rear camera.\n",
       "- **Thickness:** Approximately 5.5mm, positioning it as Apple’s thinnest smartphone to date.\n",
       "- **Battery:** A 2,800mAh battery optimized for improved endurance.\n",
       "- **Price Range:** Estimated between $899 to $1,299.\n",
       "- **Critiques:** Some concerns regarding battery life and durability due to its slim design.\n",
       "\n",
       "### 2.3 iPhone 17 Pro\n",
       "- **Display:** 6.3-inch screen with ProMotion technology, similar to the standard model.\n",
       "- **Processor:** Featuring the A19 Pro chip.\n",
       "- **Camera System:** Triple 48MP rear camera configuration.\n",
       "- **Key Features:** 12GB of RAM with computational photography enhancements.\n",
       "- **Price Range:** Starting at $999.\n",
       "\n",
       "### 2.4 iPhone 17 Pro Max\n",
       "- **Display:** 6.9-inch Retina display with enhanced Dynamic Island.\n",
       "- **Camera:** A triple 48MP camera system with a telephoto lens supporting 8x optical zoom.\n",
       "- **Processor:** Enhanced performance with A19 Pro chip.\n",
       "- **Price Range:** Expected to start at $1,199.\n",
       "- **Innovations:** Introduction of a vapor chamber cooling system to enhance thermal performance.\n",
       "\n",
       "## 3. Key Features Across All Models\n",
       "- **Operating System:** All models will ship with iOS 26, introducing advanced AI capabilities.\n",
       "- **Charging Capabilities:** Support for Qi2 wireless charging up to 35W across all models.\n",
       "- **Storage Options:** Varying base storage capabilities, with Pro models expected to have higher capacities.\n",
       "- **Durability:** Enhanced water and dust resistance specifications.\n",
       "- **Color Choices:** New color options including Steel Gray, Green, and variations for the Pro models such as Dark Blue and Orange.\n",
       "\n",
       "## 4. Market Expectations and User Feedback\n",
       "As the launch approaches, user anticipation is mixed with skepticism regarding certain models, especially the iPhone 17 Air, which has received criticism for potential battery and performance issues. Early insights note:\n",
       "- **Positive Feedback:** Users appreciate the ergonomics of the iPhone 17 standard model for its comfortable fit and aesthetic.\n",
       "- **Concerns for iPhone 17 Air:** Early reports highlight freezing and app malfunctions, raising concerns about reliability and efficiency.\n",
       "\n",
       "## 5. Comparative Analysis\n",
       "A comparative review of the iPhone 17 models showcases strengths and weaknesses:\n",
       "- **Standard Model vs. Air:** The iPhone 17 offers a more robust camera system and better build quality compared to the ultrathin Air variant.\n",
       "- **Pro vs. Pro Max:** The primary distinction lies in the screen size and advanced camera features, making the Pro Max the go-to option for professional users or those prioritizing photography.\n",
       "\n",
       "## 6. Conclusion\n",
       "The iPhone 17 series promises to bring significant innovations and variety to consumers. Each model is equipped with unique features that cater to an array of user preferences—from the sleek iPhone 17 Air to the advanced capabilities of the iPhone 17 Pro Max. As final specifications and user experiences unfold, consumers should weigh their needs against the features offered by each model to make an informed purchasing decision. Apple continues to set the benchmark for smartphone technology, and the iPhone 17 series is poised to uphold this legacy.\n",
       "\n",
       "## 7. References\n",
       "- [Tom's Hardware](https://www.tomsguide.com/phones/iphones/iphone-17-rumors-everything-we-know-so-far?utm_source=openai)\n",
       "- [Cincodias](https://cincodias.elpais.com/smartlife/smartphones/2025-08-11/imagen-dimensiones-pantalla-iphone-17.html?utm_source=openai)\n",
       "- [Economic Times](https://www.economictimes.com/news/international/us/apple-may-introduce-an-ultra-thin-iphone-air-to-replace-the-plus-model-/amp_articleshow/123244554.cms?utm_source=openai)\n",
       "\n",
       "---\n",
       "This detailed report aims to prepare prospective buyers for the iPhone 17 series, aiding them in navigating the multitude of options and enhancing their understanding of the cutting-edge technology Apple continues to innovate."
      ],
      "text/plain": [
       "<IPython.core.display.Markdown object>"
      ]
     },
     "metadata": {},
     "output_type": "display_data"
    }
   ],
   "source": [
    "# query =\"What are the most popular and successful AI Agent frameworks in May 2025\"\n",
    "query = \"Provide me detailed summary for iphone 17 and its variants\"\n",
    "\n",
    "with trace(\"Research trace\"):\n",
    "    print(\"Starting research...\")\n",
    "    search_plan = await plan_searches(query)\n",
    "    search_results = await perform_searches(search_plan)\n",
    "    report = await write_report(query, search_results)\n",
    "    await send_push(report)  \n",
    "    print(\"Hooray!\")\n",
    "display(Markdown(report.markdown_report))"
   ]
  },
  {
   "cell_type": "markdown",
   "metadata": {},
   "source": [
    "### As always, take a look at the trace\n",
    "\n",
    "https://platform.openai.com/traces"
   ]
  }
 ],
 "metadata": {
  "kernelspec": {
   "display_name": "Agents",
   "language": "python",
   "name": "python3"
  },
  "language_info": {
   "codemirror_mode": {
    "name": "ipython",
    "version": 3
   },
   "file_extension": ".py",
   "mimetype": "text/x-python",
   "name": "python",
   "nbconvert_exporter": "python",
   "pygments_lexer": "ipython3",
   "version": "3.11.13"
  }
 },
 "nbformat": 4,
 "nbformat_minor": 2
}
